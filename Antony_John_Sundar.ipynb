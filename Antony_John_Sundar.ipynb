{
 "cells": [
  {
   "cell_type": "code",
   "execution_count": 1,
   "id": "d64e582a",
   "metadata": {},
   "outputs": [],
   "source": [
    "## Import the libraries\n",
    "\n",
    "import numpy as np\n",
    "import pandas as pd\n",
    "import seaborn as sns\n",
    "import matplotlib.pyplot as plt\n",
    "import warnings\n",
    "warnings.filterwarnings('ignore')\n",
    "\n",
    "\n"
   ]
  },
  {
   "cell_type": "markdown",
   "id": "b5fb90e4",
   "metadata": {},
   "source": [
    "### Check for Headers and Footers"
   ]
  },
  {
   "cell_type": "code",
   "execution_count": 2,
   "id": "71f7e98b",
   "metadata": {},
   "outputs": [
    {
     "ename": "FileNotFoundError",
     "evalue": "[Errno 2] No such file or directory: 'Loan.csv'",
     "output_type": "error",
     "traceback": [
      "\u001b[1;31m---------------------------------------------------------------------------\u001b[0m",
      "\u001b[1;31mFileNotFoundError\u001b[0m                         Traceback (most recent call last)",
      "Cell \u001b[1;32mIn[2], line 5\u001b[0m\n\u001b[0;32m      1\u001b[0m \u001b[38;5;66;03m# load the Raw data\u001b[39;00m\n\u001b[0;32m      2\u001b[0m \u001b[38;5;66;03m# Given Data\u001b[39;00m\n\u001b[0;32m      3\u001b[0m \n\u001b[0;32m      4\u001b[0m \u001b[38;5;66;03m#set low_memory to False - avoid dtype error\u001b[39;00m\n\u001b[1;32m----> 5\u001b[0m dt \u001b[38;5;241m=\u001b[39m pd\u001b[38;5;241m.\u001b[39mread_csv(\u001b[38;5;124m'\u001b[39m\u001b[38;5;124mLoan.csv\u001b[39m\u001b[38;5;124m'\u001b[39m, low_memory\u001b[38;5;241m=\u001b[39m\u001b[38;5;28;01mFalse\u001b[39;00m)\n\u001b[0;32m      6\u001b[0m \u001b[38;5;66;03m#dt= pd.read_csv(\"loan.csv\")\u001b[39;00m\n\u001b[0;32m      7\u001b[0m \n\u001b[0;32m      8\u001b[0m \u001b[38;5;66;03m#check for headers \u001b[39;00m\n\u001b[0;32m      9\u001b[0m dt\u001b[38;5;241m.\u001b[39mhead()\n",
      "File \u001b[1;32m~\\anaconda3\\Lib\\site-packages\\pandas\\util\\_decorators.py:211\u001b[0m, in \u001b[0;36mdeprecate_kwarg.<locals>._deprecate_kwarg.<locals>.wrapper\u001b[1;34m(*args, **kwargs)\u001b[0m\n\u001b[0;32m    209\u001b[0m     \u001b[38;5;28;01melse\u001b[39;00m:\n\u001b[0;32m    210\u001b[0m         kwargs[new_arg_name] \u001b[38;5;241m=\u001b[39m new_arg_value\n\u001b[1;32m--> 211\u001b[0m \u001b[38;5;28;01mreturn\u001b[39;00m func(\u001b[38;5;241m*\u001b[39margs, \u001b[38;5;241m*\u001b[39m\u001b[38;5;241m*\u001b[39mkwargs)\n",
      "File \u001b[1;32m~\\anaconda3\\Lib\\site-packages\\pandas\\util\\_decorators.py:331\u001b[0m, in \u001b[0;36mdeprecate_nonkeyword_arguments.<locals>.decorate.<locals>.wrapper\u001b[1;34m(*args, **kwargs)\u001b[0m\n\u001b[0;32m    325\u001b[0m \u001b[38;5;28;01mif\u001b[39;00m \u001b[38;5;28mlen\u001b[39m(args) \u001b[38;5;241m>\u001b[39m num_allow_args:\n\u001b[0;32m    326\u001b[0m     warnings\u001b[38;5;241m.\u001b[39mwarn(\n\u001b[0;32m    327\u001b[0m         msg\u001b[38;5;241m.\u001b[39mformat(arguments\u001b[38;5;241m=\u001b[39m_format_argument_list(allow_args)),\n\u001b[0;32m    328\u001b[0m         \u001b[38;5;167;01mFutureWarning\u001b[39;00m,\n\u001b[0;32m    329\u001b[0m         stacklevel\u001b[38;5;241m=\u001b[39mfind_stack_level(),\n\u001b[0;32m    330\u001b[0m     )\n\u001b[1;32m--> 331\u001b[0m \u001b[38;5;28;01mreturn\u001b[39;00m func(\u001b[38;5;241m*\u001b[39margs, \u001b[38;5;241m*\u001b[39m\u001b[38;5;241m*\u001b[39mkwargs)\n",
      "File \u001b[1;32m~\\anaconda3\\Lib\\site-packages\\pandas\\io\\parsers\\readers.py:950\u001b[0m, in \u001b[0;36mread_csv\u001b[1;34m(filepath_or_buffer, sep, delimiter, header, names, index_col, usecols, squeeze, prefix, mangle_dupe_cols, dtype, engine, converters, true_values, false_values, skipinitialspace, skiprows, skipfooter, nrows, na_values, keep_default_na, na_filter, verbose, skip_blank_lines, parse_dates, infer_datetime_format, keep_date_col, date_parser, dayfirst, cache_dates, iterator, chunksize, compression, thousands, decimal, lineterminator, quotechar, quoting, doublequote, escapechar, comment, encoding, encoding_errors, dialect, error_bad_lines, warn_bad_lines, on_bad_lines, delim_whitespace, low_memory, memory_map, float_precision, storage_options)\u001b[0m\n\u001b[0;32m    935\u001b[0m kwds_defaults \u001b[38;5;241m=\u001b[39m _refine_defaults_read(\n\u001b[0;32m    936\u001b[0m     dialect,\n\u001b[0;32m    937\u001b[0m     delimiter,\n\u001b[1;32m   (...)\u001b[0m\n\u001b[0;32m    946\u001b[0m     defaults\u001b[38;5;241m=\u001b[39m{\u001b[38;5;124m\"\u001b[39m\u001b[38;5;124mdelimiter\u001b[39m\u001b[38;5;124m\"\u001b[39m: \u001b[38;5;124m\"\u001b[39m\u001b[38;5;124m,\u001b[39m\u001b[38;5;124m\"\u001b[39m},\n\u001b[0;32m    947\u001b[0m )\n\u001b[0;32m    948\u001b[0m kwds\u001b[38;5;241m.\u001b[39mupdate(kwds_defaults)\n\u001b[1;32m--> 950\u001b[0m \u001b[38;5;28;01mreturn\u001b[39;00m _read(filepath_or_buffer, kwds)\n",
      "File \u001b[1;32m~\\anaconda3\\Lib\\site-packages\\pandas\\io\\parsers\\readers.py:605\u001b[0m, in \u001b[0;36m_read\u001b[1;34m(filepath_or_buffer, kwds)\u001b[0m\n\u001b[0;32m    602\u001b[0m _validate_names(kwds\u001b[38;5;241m.\u001b[39mget(\u001b[38;5;124m\"\u001b[39m\u001b[38;5;124mnames\u001b[39m\u001b[38;5;124m\"\u001b[39m, \u001b[38;5;28;01mNone\u001b[39;00m))\n\u001b[0;32m    604\u001b[0m \u001b[38;5;66;03m# Create the parser.\u001b[39;00m\n\u001b[1;32m--> 605\u001b[0m parser \u001b[38;5;241m=\u001b[39m TextFileReader(filepath_or_buffer, \u001b[38;5;241m*\u001b[39m\u001b[38;5;241m*\u001b[39mkwds)\n\u001b[0;32m    607\u001b[0m \u001b[38;5;28;01mif\u001b[39;00m chunksize \u001b[38;5;129;01mor\u001b[39;00m iterator:\n\u001b[0;32m    608\u001b[0m     \u001b[38;5;28;01mreturn\u001b[39;00m parser\n",
      "File \u001b[1;32m~\\anaconda3\\Lib\\site-packages\\pandas\\io\\parsers\\readers.py:1442\u001b[0m, in \u001b[0;36mTextFileReader.__init__\u001b[1;34m(self, f, engine, **kwds)\u001b[0m\n\u001b[0;32m   1439\u001b[0m     \u001b[38;5;28mself\u001b[39m\u001b[38;5;241m.\u001b[39moptions[\u001b[38;5;124m\"\u001b[39m\u001b[38;5;124mhas_index_names\u001b[39m\u001b[38;5;124m\"\u001b[39m] \u001b[38;5;241m=\u001b[39m kwds[\u001b[38;5;124m\"\u001b[39m\u001b[38;5;124mhas_index_names\u001b[39m\u001b[38;5;124m\"\u001b[39m]\n\u001b[0;32m   1441\u001b[0m \u001b[38;5;28mself\u001b[39m\u001b[38;5;241m.\u001b[39mhandles: IOHandles \u001b[38;5;241m|\u001b[39m \u001b[38;5;28;01mNone\u001b[39;00m \u001b[38;5;241m=\u001b[39m \u001b[38;5;28;01mNone\u001b[39;00m\n\u001b[1;32m-> 1442\u001b[0m \u001b[38;5;28mself\u001b[39m\u001b[38;5;241m.\u001b[39m_engine \u001b[38;5;241m=\u001b[39m \u001b[38;5;28mself\u001b[39m\u001b[38;5;241m.\u001b[39m_make_engine(f, \u001b[38;5;28mself\u001b[39m\u001b[38;5;241m.\u001b[39mengine)\n",
      "File \u001b[1;32m~\\anaconda3\\Lib\\site-packages\\pandas\\io\\parsers\\readers.py:1735\u001b[0m, in \u001b[0;36mTextFileReader._make_engine\u001b[1;34m(self, f, engine)\u001b[0m\n\u001b[0;32m   1733\u001b[0m     \u001b[38;5;28;01mif\u001b[39;00m \u001b[38;5;124m\"\u001b[39m\u001b[38;5;124mb\u001b[39m\u001b[38;5;124m\"\u001b[39m \u001b[38;5;129;01mnot\u001b[39;00m \u001b[38;5;129;01min\u001b[39;00m mode:\n\u001b[0;32m   1734\u001b[0m         mode \u001b[38;5;241m+\u001b[39m\u001b[38;5;241m=\u001b[39m \u001b[38;5;124m\"\u001b[39m\u001b[38;5;124mb\u001b[39m\u001b[38;5;124m\"\u001b[39m\n\u001b[1;32m-> 1735\u001b[0m \u001b[38;5;28mself\u001b[39m\u001b[38;5;241m.\u001b[39mhandles \u001b[38;5;241m=\u001b[39m get_handle(\n\u001b[0;32m   1736\u001b[0m     f,\n\u001b[0;32m   1737\u001b[0m     mode,\n\u001b[0;32m   1738\u001b[0m     encoding\u001b[38;5;241m=\u001b[39m\u001b[38;5;28mself\u001b[39m\u001b[38;5;241m.\u001b[39moptions\u001b[38;5;241m.\u001b[39mget(\u001b[38;5;124m\"\u001b[39m\u001b[38;5;124mencoding\u001b[39m\u001b[38;5;124m\"\u001b[39m, \u001b[38;5;28;01mNone\u001b[39;00m),\n\u001b[0;32m   1739\u001b[0m     compression\u001b[38;5;241m=\u001b[39m\u001b[38;5;28mself\u001b[39m\u001b[38;5;241m.\u001b[39moptions\u001b[38;5;241m.\u001b[39mget(\u001b[38;5;124m\"\u001b[39m\u001b[38;5;124mcompression\u001b[39m\u001b[38;5;124m\"\u001b[39m, \u001b[38;5;28;01mNone\u001b[39;00m),\n\u001b[0;32m   1740\u001b[0m     memory_map\u001b[38;5;241m=\u001b[39m\u001b[38;5;28mself\u001b[39m\u001b[38;5;241m.\u001b[39moptions\u001b[38;5;241m.\u001b[39mget(\u001b[38;5;124m\"\u001b[39m\u001b[38;5;124mmemory_map\u001b[39m\u001b[38;5;124m\"\u001b[39m, \u001b[38;5;28;01mFalse\u001b[39;00m),\n\u001b[0;32m   1741\u001b[0m     is_text\u001b[38;5;241m=\u001b[39mis_text,\n\u001b[0;32m   1742\u001b[0m     errors\u001b[38;5;241m=\u001b[39m\u001b[38;5;28mself\u001b[39m\u001b[38;5;241m.\u001b[39moptions\u001b[38;5;241m.\u001b[39mget(\u001b[38;5;124m\"\u001b[39m\u001b[38;5;124mencoding_errors\u001b[39m\u001b[38;5;124m\"\u001b[39m, \u001b[38;5;124m\"\u001b[39m\u001b[38;5;124mstrict\u001b[39m\u001b[38;5;124m\"\u001b[39m),\n\u001b[0;32m   1743\u001b[0m     storage_options\u001b[38;5;241m=\u001b[39m\u001b[38;5;28mself\u001b[39m\u001b[38;5;241m.\u001b[39moptions\u001b[38;5;241m.\u001b[39mget(\u001b[38;5;124m\"\u001b[39m\u001b[38;5;124mstorage_options\u001b[39m\u001b[38;5;124m\"\u001b[39m, \u001b[38;5;28;01mNone\u001b[39;00m),\n\u001b[0;32m   1744\u001b[0m )\n\u001b[0;32m   1745\u001b[0m \u001b[38;5;28;01massert\u001b[39;00m \u001b[38;5;28mself\u001b[39m\u001b[38;5;241m.\u001b[39mhandles \u001b[38;5;129;01mis\u001b[39;00m \u001b[38;5;129;01mnot\u001b[39;00m \u001b[38;5;28;01mNone\u001b[39;00m\n\u001b[0;32m   1746\u001b[0m f \u001b[38;5;241m=\u001b[39m \u001b[38;5;28mself\u001b[39m\u001b[38;5;241m.\u001b[39mhandles\u001b[38;5;241m.\u001b[39mhandle\n",
      "File \u001b[1;32m~\\anaconda3\\Lib\\site-packages\\pandas\\io\\common.py:856\u001b[0m, in \u001b[0;36mget_handle\u001b[1;34m(path_or_buf, mode, encoding, compression, memory_map, is_text, errors, storage_options)\u001b[0m\n\u001b[0;32m    851\u001b[0m \u001b[38;5;28;01melif\u001b[39;00m \u001b[38;5;28misinstance\u001b[39m(handle, \u001b[38;5;28mstr\u001b[39m):\n\u001b[0;32m    852\u001b[0m     \u001b[38;5;66;03m# Check whether the filename is to be opened in binary mode.\u001b[39;00m\n\u001b[0;32m    853\u001b[0m     \u001b[38;5;66;03m# Binary mode does not support 'encoding' and 'newline'.\u001b[39;00m\n\u001b[0;32m    854\u001b[0m     \u001b[38;5;28;01mif\u001b[39;00m ioargs\u001b[38;5;241m.\u001b[39mencoding \u001b[38;5;129;01mand\u001b[39;00m \u001b[38;5;124m\"\u001b[39m\u001b[38;5;124mb\u001b[39m\u001b[38;5;124m\"\u001b[39m \u001b[38;5;129;01mnot\u001b[39;00m \u001b[38;5;129;01min\u001b[39;00m ioargs\u001b[38;5;241m.\u001b[39mmode:\n\u001b[0;32m    855\u001b[0m         \u001b[38;5;66;03m# Encoding\u001b[39;00m\n\u001b[1;32m--> 856\u001b[0m         handle \u001b[38;5;241m=\u001b[39m \u001b[38;5;28mopen\u001b[39m(\n\u001b[0;32m    857\u001b[0m             handle,\n\u001b[0;32m    858\u001b[0m             ioargs\u001b[38;5;241m.\u001b[39mmode,\n\u001b[0;32m    859\u001b[0m             encoding\u001b[38;5;241m=\u001b[39mioargs\u001b[38;5;241m.\u001b[39mencoding,\n\u001b[0;32m    860\u001b[0m             errors\u001b[38;5;241m=\u001b[39merrors,\n\u001b[0;32m    861\u001b[0m             newline\u001b[38;5;241m=\u001b[39m\u001b[38;5;124m\"\u001b[39m\u001b[38;5;124m\"\u001b[39m,\n\u001b[0;32m    862\u001b[0m         )\n\u001b[0;32m    863\u001b[0m     \u001b[38;5;28;01melse\u001b[39;00m:\n\u001b[0;32m    864\u001b[0m         \u001b[38;5;66;03m# Binary mode\u001b[39;00m\n\u001b[0;32m    865\u001b[0m         handle \u001b[38;5;241m=\u001b[39m \u001b[38;5;28mopen\u001b[39m(handle, ioargs\u001b[38;5;241m.\u001b[39mmode)\n",
      "\u001b[1;31mFileNotFoundError\u001b[0m: [Errno 2] No such file or directory: 'Loan.csv'"
     ]
    }
   ],
   "source": [
    "# load the Raw data\n",
    "# Given Data\n",
    "\n",
    "#set low_memory to False - avoid dtype error\n",
    "dt = pd.read_csv('Loan.csv', low_memory=False)\n",
    "#dt= pd.read_csv(\"loan.csv\")\n",
    "\n",
    "#check for headers \n",
    "dt.head()"
   ]
  },
  {
   "cell_type": "code",
   "execution_count": null,
   "id": "85e865d8",
   "metadata": {},
   "outputs": [],
   "source": [
    "#check for footers\n",
    "dt.tail()\n",
    "\n",
    "#The data set has no headers or footers "
   ]
  },
  {
   "cell_type": "code",
   "execution_count": null,
   "id": "46ce24b4",
   "metadata": {},
   "outputs": [],
   "source": [
    "# To get an insight of the RAW data\n",
    "dt.info()\n",
    "dt.shape\n",
    "\n",
    "#There are 39717 rows and 111 columns -(39717, 111)"
   ]
  },
  {
   "cell_type": "markdown",
   "id": "ca5c955e",
   "metadata": {},
   "source": [
    "### Data Preparation"
   ]
  },
  {
   "cell_type": "code",
   "execution_count": null,
   "id": "839cc77b",
   "metadata": {},
   "outputs": [],
   "source": [
    "#-Data Cleaning\n",
    "\n",
    "#To find out the total number of columns whose values are all NaN\n",
    "\n",
    "null_columns = dt.columns[dt.isnull().all()]\n",
    "print(len(null_columns))\n",
    "\n"
   ]
  },
  {
   "cell_type": "code",
   "execution_count": null,
   "id": "39158749",
   "metadata": {},
   "outputs": [],
   "source": [
    "# Out of 111 columns, we have 54 columns whose values are all NaN\n",
    "\n",
    "# We can remove these 54 columns as these columns can not contribute anything for our analysis\n"
   ]
  },
  {
   "cell_type": "code",
   "execution_count": null,
   "id": "5cae8b0a",
   "metadata": {},
   "outputs": [],
   "source": [
    "#Removing the columns whose values are all NaN\n",
    "dt.dropna(axis = 1, how = 'all', inplace = True)\n",
    "\n",
    "dt.shape\n",
    "\n"
   ]
  },
  {
   "cell_type": "code",
   "execution_count": null,
   "id": "ffeb5068",
   "metadata": {},
   "outputs": [],
   "source": [
    "# We have successfully dropped 54 null valued columns from the data set"
   ]
  },
  {
   "cell_type": "code",
   "execution_count": null,
   "id": "8471052a",
   "metadata": {},
   "outputs": [],
   "source": [
    "#To get columns which has single/same value throughout\n",
    "same_valued_columns = dt.columns[dt.nunique() == 1]\n",
    "\n",
    "# Print the number of single-valued columns\n",
    "print(len(same_valued_columns))\n",
    "print(same_valued_columns)\n",
    "\n"
   ]
  },
  {
   "cell_type": "code",
   "execution_count": null,
   "id": "138f3133",
   "metadata": {},
   "outputs": [],
   "source": [
    "# There are 9 columns which has same value throughout\n",
    "# As these 9 column value does not change with other variables, it will have no impact in our data analysis\n",
    "# We can remove these 9 columns from the data set\n"
   ]
  },
  {
   "cell_type": "code",
   "execution_count": null,
   "id": "debf853d",
   "metadata": {},
   "outputs": [],
   "source": [
    "dt.drop(['pymnt_plan', \"initial_list_status\",'collections_12_mths_ex_med','policy_code','acc_now_delinq', 'application_type', 'pub_rec_bankruptcies', 'tax_liens', 'delinq_amnt'], axis = 1, inplace = True)\n",
    "dt.shape"
   ]
  },
  {
   "cell_type": "code",
   "execution_count": null,
   "id": "b578f7a5",
   "metadata": {},
   "outputs": [],
   "source": [
    "#To get columns which has all value unique throughout\n",
    "Allunique_valued_columns = dt.columns[dt.nunique() == 39717]\n",
    "\n",
    "# Print the number of single-valued columns\n",
    "print(len(Allunique_valued_columns))\n",
    "print(Allunique_valued_columns)"
   ]
  },
  {
   "cell_type": "code",
   "execution_count": null,
   "id": "256296b3",
   "metadata": {},
   "outputs": [],
   "source": [
    "# dropping the column 'id', 'member_id',and 'url'\n",
    "\n",
    "dt.drop(['id', 'member_id', 'url'],axis = 1, inplace = True)\n",
    "\n"
   ]
  },
  {
   "cell_type": "code",
   "execution_count": null,
   "id": "c7a27bad",
   "metadata": {},
   "outputs": [],
   "source": [
    "dt.shape\n"
   ]
  },
  {
   "cell_type": "code",
   "execution_count": null,
   "id": "616a4146",
   "metadata": {},
   "outputs": [],
   "source": [
    "# The 45 columns we are left with after cleaning \n",
    "dt.columns\n",
    "\n"
   ]
  },
  {
   "cell_type": "code",
   "execution_count": null,
   "id": "59f95656",
   "metadata": {},
   "outputs": [],
   "source": [
    "# We have only 45 columns after doing the basic clean of NaN and constant valued columns\n",
    "\n",
    "# Dropping off irrelevant column for our analysis from the defintion referring the Dictionary excel file\n",
    "\n",
    "# Dropping off Customer Behaviours Variables\n",
    "\n",
    "dt.drop(['funded_amnt','funded_amnt_inv','inq_last_6mths','total_acc','open_acc','revol_util','pub_rec','sub_grade', 'emp_title','desc','title','zip_code','out_prncp',\n",
    "       'out_prncp_inv', 'total_pymnt', 'total_pymnt_inv', 'total_rec_prncp',\n",
    "       'total_rec_int', 'total_rec_late_fee', 'recoveries',\n",
    "       'collection_recovery_fee', 'last_pymnt_d', 'last_pymnt_amnt',\n",
    "       'next_pymnt_d', 'last_credit_pull_d', 'chargeoff_within_12_mths', 'addr_state','revol_bal','delinq_2yrs', \n",
    "        'earliest_cr_line','mths_since_last_delinq', 'mths_since_last_record', ],axis = 1, inplace = True)"
   ]
  },
  {
   "cell_type": "code",
   "execution_count": null,
   "id": "a4c53288",
   "metadata": {},
   "outputs": [],
   "source": [
    "dt.shape"
   ]
  },
  {
   "cell_type": "markdown",
   "id": "4ba6ff45",
   "metadata": {},
   "source": [
    "### Relevant Colums for our Analysis"
   ]
  },
  {
   "cell_type": "code",
   "execution_count": null,
   "id": "945ae4bf",
   "metadata": {},
   "outputs": [],
   "source": [
    "#After dropping the consumer behaviourial variables and irrelevant columns\n",
    "\n",
    "#Now, we have only 13 columns relevant columns\n",
    "\n",
    "dt.columns\n"
   ]
  },
  {
   "cell_type": "code",
   "execution_count": null,
   "id": "7ca698de",
   "metadata": {},
   "outputs": [],
   "source": [
    "#Finding the null values in the current data set\n",
    "\n",
    "null_percentage = dt.isnull().sum() / len(dt) * 100\n",
    "print(null_percentage)"
   ]
  },
  {
   "cell_type": "code",
   "execution_count": null,
   "id": "83989220",
   "metadata": {},
   "outputs": [],
   "source": [
    "# We have 2.7% null values in emp_length\n",
    "\n",
    "# undersatnding the distribution of emp_length\n",
    "\n",
    "dt.emp_length.value_counts()"
   ]
  },
  {
   "cell_type": "code",
   "execution_count": null,
   "id": "d620e845",
   "metadata": {},
   "outputs": [],
   "source": [
    "# Mode of emp_length\n",
    "\n",
    "print(\"Mode : \" + dt.emp_length.mode()[0])"
   ]
  },
  {
   "cell_type": "code",
   "execution_count": null,
   "id": "2888590d",
   "metadata": {},
   "outputs": [],
   "source": [
    "#The mode 10+years value has far higher frequency than that of the next most frequent value.\n",
    "\n",
    "#Hence assign the mode values for NaN , as it will be safe\n",
    "\n",
    "dt.emp_length.fillna(dt.emp_length.mode()[0], inplace = True)\n",
    "dt.emp_length.isna().sum()"
   ]
  },
  {
   "cell_type": "code",
   "execution_count": null,
   "id": "73734dbb",
   "metadata": {},
   "outputs": [],
   "source": [
    "# We have succesfully handled the missing value of the data set"
   ]
  },
  {
   "cell_type": "code",
   "execution_count": null,
   "id": "7c76919e",
   "metadata": {},
   "outputs": [],
   "source": [
    "#On Observig the data set ,the records where the loan_status ='Current' will not be useful for our analysis\n",
    "\n",
    "#Now we will restric the data only to loan status=charged off and Loan status=Fully Paid\n",
    "\n",
    "# We will remove loan_status='Current' variables in the current data set\n",
    "\n",
    "dt=dt[dt['loan_status']!='Current']\n",
    "dt.shape"
   ]
  },
  {
   "cell_type": "code",
   "execution_count": null,
   "id": "75190fca",
   "metadata": {},
   "outputs": [],
   "source": [
    "# Understanding the data types of current data set\n",
    "dt.dtypes"
   ]
  },
  {
   "cell_type": "code",
   "execution_count": null,
   "id": "79a49fb0",
   "metadata": {},
   "outputs": [],
   "source": [
    "# Understanding the values of the current data set\n",
    "\n",
    "#dt['loan_amnt'].value_counts()\n",
    "#dt['int_rate'].value_counts()\n",
    "#dt['term'].value_counts()\n",
    "#dt['installment'].value_counts()\n",
    "#dt['emp_length'].value_counts()\n",
    "#dt['home_ownership'].value_counts()\n",
    "#dt['loan_status'].value_counts()\n",
    "#dt['annual_inc'].value_counts()\n",
    "#dt['purpose'].value_counts()\n",
    "#dt['verification_status'].value_counts()\n",
    "#dt['issue_d'].value_counts()\n",
    "#dt['dti'].value_counts()\n",
    "\n"
   ]
  },
  {
   "cell_type": "markdown",
   "id": "fb40451c",
   "metadata": {},
   "source": [
    "### Data Standardization"
   ]
  },
  {
   "cell_type": "markdown",
   "id": "bf61d688",
   "metadata": {},
   "source": [
    "### After observing the current data set ,we found that few variables needed data standardizing to use them in our analysis\n",
    "\n",
    "### Varaibles need to be standardized are int_rate,issue_d\n",
    "\n"
   ]
  },
  {
   "cell_type": "markdown",
   "id": "cbfb829b",
   "metadata": {},
   "source": [
    "### Variable term has only two values 30 months and 60 months we will keep them as it is without changing it to numeric\n",
    "\n",
    "### Similarly we will keep emp_length as a categorical variable , as 10+ years can be any practical number\n"
   ]
  },
  {
   "cell_type": "code",
   "execution_count": null,
   "id": "80718e94",
   "metadata": {},
   "outputs": [],
   "source": [
    "#Standardizing the interest rate column \n",
    "#Strip out '%' and convert the value to float for numerical analysis\n",
    "dt['int_rate']=dt['int_rate'].str.strip('%').astype(float)\n",
    "dt['int_rate'].dtype\n",
    "dt['int_rate'].value_counts()"
   ]
  },
  {
   "cell_type": "code",
   "execution_count": null,
   "id": "a2313790",
   "metadata": {},
   "outputs": [],
   "source": [
    "\n",
    "# Removing the phrase years','year'and blank spaces from emp_length for better readability and visualization\n",
    "\n",
    "def std_emp_length(emp_length):\n",
    "    \n",
    "    emp_length=emp_length.replace(\"years\",\"\")\n",
    "    emp_length=emp_length.replace(\"year\",\"\")\n",
    "    #emp_length=emp_length.replace(\"<1\",\"0\")\n",
    "    #emp_length=emp_length.replace(\"+\",\"\")\n",
    "    emp_length=emp_length.replace(\" \",\"\")\n",
    "    return emp_length\n",
    "dt['emp_length']=dt['emp_length'].astype(str).apply(lambda x: std_emp_length(x))\n",
    "dt['emp_length'].value_counts()\n",
    "    \n",
    "\n",
    "    "
   ]
  },
  {
   "cell_type": "code",
   "execution_count": null,
   "id": "797afdc2",
   "metadata": {},
   "outputs": [],
   "source": [
    "\n",
    "#Standardizing the variable \"issue_d\" by converting and formatting the object to date \n",
    "\n",
    "dt['issue_d'] = pd.to_datetime(dt['issue_d'], format='%b-%y')\n",
    "dt['issue_d'].dtype\n",
    "\n",
    "# Deriving two new separate variables for month and year from 'issue_d'\n",
    "\n",
    "dt['issue_month'] = dt['issue_d'].dt.strftime('%b') # for better representaion of month as Jan,Feb.. instead of 1,2..\n",
    "dt['issue_year'] = dt['issue_d'].dt.year"
   ]
  },
  {
   "cell_type": "code",
   "execution_count": null,
   "id": "10d94982",
   "metadata": {},
   "outputs": [],
   "source": [
    "dt['issue_month'].value_counts() #understanding the value distribution of issue_month"
   ]
  },
  {
   "cell_type": "code",
   "execution_count": null,
   "id": "e3310161",
   "metadata": {},
   "outputs": [],
   "source": [
    "dt['issue_year'].value_counts() #understanding the value distribution of issue_year"
   ]
  },
  {
   "cell_type": "code",
   "execution_count": null,
   "id": "0029f955",
   "metadata": {},
   "outputs": [],
   "source": [
    "dt['home_ownership'].value_counts() #understanding the value distribution of home_Ownership"
   ]
  },
  {
   "cell_type": "code",
   "execution_count": null,
   "id": "a89e4cee",
   "metadata": {},
   "outputs": [],
   "source": [
    "# Imputing the value for home_ownership variable where value is NONE and assume that to OTHER, \n",
    "\n",
    "# As we have only 3 data having value 'NONE', it is safe to change to OTHER\n",
    "\n",
    "# Moreover,the term \"OTHER\" and \"NONE\" both has same context in analysis point of view\n",
    "\n",
    "dt['home_ownership']=dt['home_ownership'].str.replace('NONE','OTHER')\n",
    "dt['home_ownership'].value_counts()"
   ]
  },
  {
   "cell_type": "markdown",
   "id": "3f3f9d95",
   "metadata": {},
   "source": [
    "## Outlier Treatment"
   ]
  },
  {
   "cell_type": "code",
   "execution_count": null,
   "id": "30cd48f4",
   "metadata": {},
   "outputs": [],
   "source": [
    "# Now we have cleaned and standardized the data set, we can find the outliers to get the most relevant data for analysis\n",
    "\n",
    "# Handling Outliers for numeric variables\n",
    "\n",
    "# Handling Outlier for loan_amnt\n",
    "\n",
    "print(dt.loan_amnt.quantile([0.25,0.5, 0.75,0.90, 0.95, 0.97,0.98, 0.99]))\n",
    "\n",
    "sns.boxplot(x=dt['loan_amnt'])\n",
    "plt.show()\n",
    "\n"
   ]
  },
  {
   "cell_type": "code",
   "execution_count": null,
   "id": "988d1ceb",
   "metadata": {},
   "outputs": [],
   "source": [
    "# From the above representation, it is evident that there are outliers for loan_amnt\n",
    "\n",
    "# From the quantile information ,we can observe the values are continuous until 0.98 and there is sudden spike,\n",
    "\n",
    "# Hence considering the value only inside the quantile 0.98\n",
    "\n",
    "\n",
    "loan_amnt_Q98 = dt['loan_amnt'].quantile(0.98)\n",
    "dt = dt[dt.loan_amnt <= loan_amnt_Q98]\n",
    "\n",
    "sns.boxplot(x=dt['loan_amnt'])\n",
    "plt.show()\n",
    "\n",
    "# The loan_amnt visualization after removing the outliers shown below\n",
    "\n"
   ]
  },
  {
   "cell_type": "code",
   "execution_count": null,
   "id": "d525b9df",
   "metadata": {},
   "outputs": [],
   "source": [
    "# Handling outliers for dti variable\n",
    "\n",
    "print(dt.dti.quantile([0.5, 0.75,0.90, 0.95, 0.97,0.98, 0.99]))\n",
    "\n",
    "sns.boxplot(x=dt['dti'])\n",
    "plt.show()\n",
    "\n"
   ]
  },
  {
   "cell_type": "code",
   "execution_count": null,
   "id": "cba14dff",
   "metadata": {},
   "outputs": [],
   "source": [
    "# There are no outliers identified with dti, hence keeping the dti variable data as it is."
   ]
  },
  {
   "cell_type": "code",
   "execution_count": null,
   "id": "71fe87d5",
   "metadata": {},
   "outputs": [],
   "source": [
    "# Handling outliers for annual_inc variable\n",
    "\n",
    "print(dt.annual_inc.quantile([0.25,0.5, 0.75,0.90, 0.95, 0.97,0.98, 0.99]))\n",
    "\n",
    "sns.boxplot(x=dt['annual_inc'])\n",
    "plt.show()"
   ]
  },
  {
   "cell_type": "code",
   "execution_count": null,
   "id": "1e85b2e3",
   "metadata": {},
   "outputs": [],
   "source": [
    "# From the above representation ,There are clearly outliers in annual_inc\n",
    "\n",
    "# The value after 0.95 quantile seems to be disconnected with the distribution\n",
    "\n",
    "# Hence ,We will restrict our data set to 0.95 quantile to avoid the irrelevant outlier data  \n",
    "\n",
    "\n",
    "\n",
    "annual_inc_Q95 = dt['annual_inc'].quantile(0.95)\n",
    "dt = dt[dt.annual_inc <= annual_inc_Q95]\n",
    "\n",
    "sns.boxplot(x=dt['annual_inc'])\n",
    "plt.show()\n",
    "\n"
   ]
  },
  {
   "cell_type": "markdown",
   "id": "3d57daa9",
   "metadata": {},
   "source": [
    "## Data Analysis"
   ]
  },
  {
   "cell_type": "markdown",
   "id": "920171c3",
   "metadata": {},
   "source": [
    "### Visualization of Target State Variable"
   ]
  },
  {
   "cell_type": "code",
   "execution_count": null,
   "id": "98ec5076",
   "metadata": {},
   "outputs": [],
   "source": [
    "#Target state visualiazation with the current data\n",
    "\n",
    "#The current ratio between Fully Paid and Charged off is approx 6:1 \n",
    "\n",
    "#Currently for every 6 applicant one applicant is a defaulter\n",
    "\n",
    "\n",
    "\n",
    "dt['loan_status'].value_counts()"
   ]
  },
  {
   "cell_type": "code",
   "execution_count": null,
   "id": "5e20f41e",
   "metadata": {},
   "outputs": [],
   "source": [
    "# Now we a clean and more relevant data in our data set for analysis\n",
    "\n",
    "# We will visualize each variable against the target state \"Loan Status -Charged off\"\n",
    "\n",
    "#Current status intrepretation of the loan application from our data set \n",
    "\n",
    "sns.countplot(x ='loan_status', data = dt)"
   ]
  },
  {
   "cell_type": "markdown",
   "id": "771b4083",
   "metadata": {},
   "source": [
    "### We have the clean , standardized and relevant data in our data set \n",
    "\n",
    "###  We will do the EDA on our data to determine the strong factors for loan defaults\n",
    "\n",
    "\n"
   ]
  },
  {
   "cell_type": "markdown",
   "id": "2f6cda0e",
   "metadata": {},
   "source": [
    "## Univariate Analysis :"
   ]
  },
  {
   "cell_type": "markdown",
   "id": "f1320017",
   "metadata": {},
   "source": [
    "### Analysis of each available variable against the loan status where status is charged off"
   ]
  },
  {
   "cell_type": "code",
   "execution_count": null,
   "id": "db92d44e",
   "metadata": {},
   "outputs": [],
   "source": [
    "# Analysing Grade (we are limiting oyr analysis at (grade) Grade Level not considering sub-grade)\n",
    "\n",
    "sns.countplot(x = 'grade', data = dt[dt.loan_status == 'Charged Off'], order = ['A', 'B', 'C', 'D', 'E', 'F', 'G'])"
   ]
  },
  {
   "cell_type": "code",
   "execution_count": null,
   "id": "bd189839",
   "metadata": {},
   "outputs": [],
   "source": [
    "# Analysing the variable issued_year (derived variable from issue_d)\n",
    "\n",
    "sns.countplot(x='issue_year', data=dt[dt['loan_status']=='Charged Off'])"
   ]
  },
  {
   "cell_type": "code",
   "execution_count": null,
   "id": "c1730471",
   "metadata": {},
   "outputs": [],
   "source": [
    "# Analysing the variable issued_month (derived variable from issue_d)\n",
    "\n",
    "sns.countplot(x='issue_month', data=dt[dt['loan_status']=='Charged Off'],order = ['Jan', 'Feb', 'Mar', 'Apr', 'May', 'Jun', 'Jul', 'Aug', 'Sep', 'Oct', 'Nov', 'Dec'])\n",
    "\n"
   ]
  },
  {
   "cell_type": "code",
   "execution_count": null,
   "id": "e2410f9b",
   "metadata": {},
   "outputs": [],
   "source": [
    "# Analysing the variable term \n",
    "\n",
    "sns.countplot(x='term', data=dt[dt['loan_status']=='Charged Off'])"
   ]
  },
  {
   "cell_type": "code",
   "execution_count": null,
   "id": "1eea6678",
   "metadata": {},
   "outputs": [],
   "source": [
    "# Analysing the variable emp_length \n",
    "\n",
    "sns.countplot(x='emp_length', data=dt[dt['loan_status']=='Charged Off'],order = ['<1','1', '2', '3', '4', '5', '6', '7', '8', '9','10+'])"
   ]
  },
  {
   "cell_type": "code",
   "execution_count": null,
   "id": "e33aba41",
   "metadata": {},
   "outputs": [],
   "source": [
    "# Analysing the variable home_ownership \n",
    "sns.countplot(x='home_ownership', data=dt[dt['loan_status']=='Charged Off'])"
   ]
  },
  {
   "cell_type": "code",
   "execution_count": null,
   "id": "dfbecae2",
   "metadata": {},
   "outputs": [],
   "source": [
    "# Analysing the variable verification_status \n",
    "sns.countplot(x='verification_status', data=dt[dt['loan_status']=='Charged Off'])"
   ]
  },
  {
   "cell_type": "code",
   "execution_count": null,
   "id": "0430cf5c",
   "metadata": {},
   "outputs": [],
   "source": [
    "# Analysing the variable purpose \n",
    "sns.countplot(y='purpose', data=dt[dt['loan_status']=='Charged Off'])"
   ]
  },
  {
   "cell_type": "code",
   "execution_count": null,
   "id": "32f2cece",
   "metadata": {
    "scrolled": true
   },
   "outputs": [],
   "source": [
    "dt.describe() #TO understand the data range and to determine the bin range for numerical variables"
   ]
  },
  {
   "cell_type": "code",
   "execution_count": null,
   "id": "02c37550",
   "metadata": {},
   "outputs": [],
   "source": [
    "# creating bins for better understanding of the distribution and visualize the numerical distribution as categorical\n",
    "\n",
    "# after understanding the data distribution bins are created for the following variables\n",
    "\n",
    "# installment,loan_amnt,dti,annual_inc,int_rate\n",
    "\n",
    "dt['installment_category'] = pd.cut(dt['installment'], bins=6,precision =0,labels=['0-185','185-370','370-555','555-740','740-925','925-1110'])\n",
    "dt['loan_amnt_category'] = pd.cut(dt['loan_amnt'], bins=5,precision =0,labels=['0-6k','6k-12k','12k-18k','18k-24k','24k-30k'])\n",
    "dt['dti_category'] = pd.cut(dt['dti'], bins=5,precision =0,labels=['0-6','6-12','12-18','18-24','24-30'])\n",
    "dt['int_rate_category'] = pd.cut(dt['int_rate'], bins=5,precision =0,labels=['5%-9%','9%-13%','13%-17%','17%-21%','21%-24%'])\n",
    "dt['annual_inc_category'] = pd.cut(dt['annual_inc'], bins=5,precision =0,labels =['0k-28k','28k-56k','56k-84k','84k-112k','112k-140k'])\n"
   ]
  },
  {
   "cell_type": "code",
   "execution_count": null,
   "id": "8d502e83",
   "metadata": {},
   "outputs": [],
   "source": [
    "# Analysing the variable loan_amnt \n",
    "sns.countplot(x='loan_amnt_category', data=dt[dt['loan_status']=='Charged Off'])"
   ]
  },
  {
   "cell_type": "code",
   "execution_count": null,
   "id": "e7541ea3",
   "metadata": {},
   "outputs": [],
   "source": [
    "# Analysing the variable int_rate \n",
    "sns.countplot(x='int_rate_category', data=dt[dt['loan_status']=='Charged Off'])"
   ]
  },
  {
   "cell_type": "code",
   "execution_count": null,
   "id": "7219c702",
   "metadata": {},
   "outputs": [],
   "source": [
    "# Analysing the variable installment \n",
    "\n",
    "sns.countplot(x='installment_category', data=dt[dt['loan_status']=='Charged Off'])"
   ]
  },
  {
   "cell_type": "code",
   "execution_count": null,
   "id": "3ffb40b8",
   "metadata": {},
   "outputs": [],
   "source": [
    "# Analysing the variable dti \n",
    "\n",
    "sns.countplot(x='dti_category', data=dt[dt['loan_status']=='Charged Off'])"
   ]
  },
  {
   "cell_type": "code",
   "execution_count": null,
   "id": "fefc077d",
   "metadata": {},
   "outputs": [],
   "source": [
    "# Analysing the variable annual Income \n",
    "\n",
    "sns.countplot(x='annual_inc_category', data=dt[dt['loan_status']=='Charged Off'])"
   ]
  },
  {
   "cell_type": "markdown",
   "id": "1a2ede5b",
   "metadata": {},
   "source": [
    "## Understanding the correlation between numerical variables"
   ]
  },
  {
   "cell_type": "code",
   "execution_count": null,
   "id": "447ec915",
   "metadata": {},
   "outputs": [],
   "source": [
    "# Correalation between the numeric value\n",
    "\n",
    "numeric_columns = ['loan_amnt','int_rate','installment','annual_inc','dti']\n",
    "correlation_matrix = dt[numeric_columns].corr()\n",
    "f,ax = plt.subplots(figsize= (10,5))\n",
    "\n",
    "sns.heatmap(correlation_matrix,xticklabels = correlation_matrix.columns.values,yticklabels= correlation_matrix.columns.values,\n",
    "           cmap= 'coolwarm', annot = True)\n",
    "plt.xticks(rotation=50)\n",
    "plt.show()"
   ]
  },
  {
   "cell_type": "code",
   "execution_count": null,
   "id": "151cf8ac",
   "metadata": {},
   "outputs": [],
   "source": [
    "# we will consider loan_amnt for our analysis as funded_amnt and funded_amnt_inv has similar distribution as loan_amnt \n",
    "\n",
    "# Analysing loan_amnt with other columns for more insights\n",
    "\n"
   ]
  },
  {
   "cell_type": "markdown",
   "id": "60ae09df",
   "metadata": {},
   "source": [
    "## Bivariate Analysis :"
   ]
  },
  {
   "cell_type": "code",
   "execution_count": null,
   "id": "e79d34c0",
   "metadata": {},
   "outputs": [],
   "source": [
    "# Bivariate Analysis\n",
    "\n",
    "# Loan amount vs Pursose over loan_status\n",
    "\n",
    "plt.figure(figsize=(12,9))\n",
    "sns.barplot(x='loan_amnt', y='purpose', hue ='loan_status',data=dt,ci=None, palette=\"CMRmap\",saturation=1)\n",
    "plt.show()"
   ]
  },
  {
   "cell_type": "code",
   "execution_count": null,
   "id": "946448f3",
   "metadata": {},
   "outputs": [],
   "source": [
    "# Loan amount vs term over loan_status\n",
    "\n",
    "plt.figure(figsize=(5,8))\n",
    "sns.barplot(y='loan_amnt', x='term', hue ='loan_status',data=dt,palette=\"CMRmap\",saturation=1)\n",
    "plt.show()"
   ]
  },
  {
   "cell_type": "code",
   "execution_count": null,
   "id": "60f0ff1a",
   "metadata": {},
   "outputs": [],
   "source": [
    "# Loan amount vs interesr rate over loan_status\n",
    "\n",
    "plt.figure(figsize=(9,6))\n",
    "sns.barplot(y='loan_amnt', x='int_rate_category', hue ='loan_status',data=dt,palette=\"CMRmap\",saturation=1)\n",
    "plt.show()"
   ]
  },
  {
   "cell_type": "code",
   "execution_count": null,
   "id": "90c3a690",
   "metadata": {},
   "outputs": [],
   "source": [
    "# Loan amount vs installments over loan_status\n",
    "\n",
    "plt.figure(figsize=(9,6))\n",
    "sns.barplot(y='loan_amnt', x='installment_category', hue ='loan_status',data=dt,palette=\"CMRmap\",saturation=1)\n",
    "plt.show()"
   ]
  },
  {
   "cell_type": "code",
   "execution_count": null,
   "id": "de6d677e",
   "metadata": {},
   "outputs": [],
   "source": [
    "# Loan amount vs Grade over loan_status\n",
    "\n",
    "plt.figure(figsize=(9,6))\n",
    "sns.barplot(y='loan_amnt', x='grade', hue ='loan_status',data=dt,palette=\"CMRmap\",order = ['A', 'B', 'C', 'D', 'E', 'F', 'G'],saturation=1)\n",
    "plt.show()"
   ]
  },
  {
   "cell_type": "code",
   "execution_count": null,
   "id": "17108403",
   "metadata": {},
   "outputs": [],
   "source": [
    "# Loan amount vs Employee Length over loan_status\n",
    "\n",
    "plt.figure(figsize=(9,6))\n",
    "sns.barplot(y='loan_amnt', x='emp_length', hue ='loan_status',data =dt,order = ['<1','1', '2', '3', '4', '5', '6', '7', '8', '9','10+'],palette=\"CMRmap\",saturation=1)\n",
    "plt.show()"
   ]
  },
  {
   "cell_type": "code",
   "execution_count": null,
   "id": "1a249b4b",
   "metadata": {},
   "outputs": [],
   "source": [
    "# Loan amount vs Home Ownership  over loan_status\n",
    "\n",
    "\n",
    "plt.figure(figsize=(9,5))\n",
    "sns.barplot(y='loan_amnt', x='home_ownership', hue ='loan_status',data =dt,palette=\"CMRmap\",saturation=1)\n",
    "\n",
    "plt.show()"
   ]
  },
  {
   "cell_type": "code",
   "execution_count": null,
   "id": "e189efc5",
   "metadata": {},
   "outputs": [],
   "source": [
    "# Loan amount vs annual_income over loan_status\n",
    "\n",
    "plt.figure(figsize=(9,6))\n",
    "sns.barplot(y='loan_amnt', x='annual_inc_category', hue ='loan_status',data =dt,palette=\"CMRmap\",saturation=1)\n",
    "\n",
    "plt.show()"
   ]
  },
  {
   "cell_type": "code",
   "execution_count": null,
   "id": "fd7ea73f",
   "metadata": {},
   "outputs": [],
   "source": [
    "# Loan amount vs Verification Status over loan_status\n",
    "\n",
    "plt.figure(figsize=(9,6))\n",
    "sns.barplot(y='loan_amnt', x='verification_status', hue ='loan_status',data =dt,palette=\"CMRmap\",saturation=1)\n",
    "\n",
    "plt.show()"
   ]
  },
  {
   "cell_type": "code",
   "execution_count": null,
   "id": "336d6af9",
   "metadata": {},
   "outputs": [],
   "source": [
    "# Loan amount vs Debt to Income  over loan_status\n",
    "\n",
    "plt.figure(figsize=(9,6))\n",
    "sns.barplot(y='loan_amnt', x='dti_category', hue ='loan_status',ci=None,data =dt,palette=\"CMRmap\",saturation=1)\n",
    "plt.show()"
   ]
  },
  {
   "cell_type": "code",
   "execution_count": null,
   "id": "f5e7ce05",
   "metadata": {},
   "outputs": [],
   "source": [
    "# Loan amount vs issue month over loan_status\n",
    "\n",
    "plt.figure(figsize=(9,6))\n",
    "sns.barplot(y='loan_amnt', x='issue_month', hue ='loan_status',data =dt,palette=\"CMRmap\",order = ['Jan', 'Feb', 'Mar', 'Apr', 'May', 'Jun', 'Jul', 'Aug', 'Sep', 'Oct', 'Nov', 'Dec'],saturation=1)\n",
    "\n",
    "plt.show()"
   ]
  },
  {
   "cell_type": "code",
   "execution_count": null,
   "id": "88fa0f9c",
   "metadata": {},
   "outputs": [],
   "source": [
    "# Analysing annual income with other columns for more insights\n",
    "\n",
    "# Annual income vs loan purpose\n",
    "\n",
    "plt.figure(figsize=(9,9))\n",
    "sns.barplot(x='annual_inc', y='purpose', hue ='loan_status',data =dt,palette=\"colorblind\",ci=None,saturation=1)\n",
    "plt.show()"
   ]
  },
  {
   "cell_type": "code",
   "execution_count": null,
   "id": "72b247a9",
   "metadata": {},
   "outputs": [],
   "source": [
    "# Annual income vs Term \n",
    "\n",
    "plt.figure(figsize=(9,4))\n",
    "sns.barplot(x='annual_inc', y='term', hue ='loan_status',data =dt,palette=\"colorblind\",ci=None,saturation=1)\n",
    "plt.show()"
   ]
  },
  {
   "cell_type": "code",
   "execution_count": null,
   "id": "ca5fad72",
   "metadata": {},
   "outputs": [],
   "source": [
    "# Annual income vs Grade\n",
    "\n",
    "plt.figure(figsize=(9,6))\n",
    "sns.barplot(y='annual_inc', x='grade', hue ='loan_status',data =dt,order = ['A','B', 'C', 'D', 'E', 'F', 'G'],palette=\"colorblind\",ci=None,saturation=1)\n",
    "plt.show()"
   ]
  },
  {
   "cell_type": "code",
   "execution_count": null,
   "id": "091c43f8",
   "metadata": {},
   "outputs": [],
   "source": [
    "# Annual income vs Employee Length \n",
    "\n",
    "plt.figure(figsize=(9,6))\n",
    "sns.barplot(y='annual_inc', x='emp_length', hue ='loan_status',data =dt,order = ['<1','1', '2', '3', '4', '5', '6', '7', '8', '9','10+'],palette=\"colorblind\",ci=None,saturation=1)\n",
    "plt.show()"
   ]
  },
  {
   "cell_type": "code",
   "execution_count": null,
   "id": "62caa1c2",
   "metadata": {},
   "outputs": [],
   "source": [
    "# Annual income vs Home Ownership\n",
    "\n",
    "plt.figure(figsize=(9,6))\n",
    "sns.barplot(y='annual_inc', x='home_ownership', hue ='loan_status',data =dt,palette=\"colorblind\",ci=None,saturation=1)\n",
    "plt.show()"
   ]
  },
  {
   "cell_type": "code",
   "execution_count": null,
   "id": "d78f7c11",
   "metadata": {},
   "outputs": [],
   "source": [
    "# Annual income vs Debt to Income\n",
    "\n",
    "plt.figure(figsize=(9,6))\n",
    "sns.barplot(y='annual_inc', x='dti_category', hue ='loan_status',data =dt,palette=\"colorblind\",ci=None,saturation=1)\n",
    "plt.show()"
   ]
  },
  {
   "cell_type": "code",
   "execution_count": null,
   "id": "1fb0f9e8",
   "metadata": {},
   "outputs": [],
   "source": [
    "# Annual income vs issue month\n",
    "\n",
    "plt.figure(figsize=(9,6))\n",
    "sns.barplot(y='annual_inc', x='issue_month', hue ='loan_status',data =dt,palette=\"colorblind\",ci=None,order = ['Jan', 'Feb', 'Mar', 'Apr', 'May', 'Jun', 'Jul', 'Aug', 'Sep', 'Oct', 'Nov', 'Dec'],saturation=1)\n",
    "plt.show()"
   ]
  },
  {
   "cell_type": "code",
   "execution_count": null,
   "id": "2bbb9f73",
   "metadata": {},
   "outputs": [],
   "source": [
    "# Annual income vs installment\n",
    "\n",
    "plt.figure(figsize=(9,6))\n",
    "sns.barplot(y='annual_inc', x='installment_category', hue ='loan_status',data =dt,palette=\"colorblind\",ci=None,saturation=1)\n",
    "plt.show()"
   ]
  },
  {
   "cell_type": "code",
   "execution_count": null,
   "id": "ebe11a5a",
   "metadata": {},
   "outputs": [],
   "source": [
    "# Annual income vs Loan Amount\n",
    "\n",
    "plt.figure(figsize=(9,6))\n",
    "sns.barplot(y='annual_inc', x='loan_amnt_category', hue ='loan_status',data =dt,palette=\"colorblind\",ci=None,saturation=1)\n",
    "plt.show()"
   ]
  },
  {
   "cell_type": "code",
   "execution_count": null,
   "id": "dc634436",
   "metadata": {},
   "outputs": [],
   "source": [
    "# Annual income vs Iterest Rate\n",
    "\n",
    "plt.figure(figsize=(9,6))\n",
    "sns.barplot(y='annual_inc', x='int_rate_category', hue ='loan_status',data =dt,palette=\"colorblind\",ci=None,saturation=1)\n",
    "plt.show()"
   ]
  },
  {
   "cell_type": "code",
   "execution_count": null,
   "id": "5b72a0a6",
   "metadata": {},
   "outputs": [],
   "source": [
    "# Analysing interst rate with other columns for more insights\n",
    "\n",
    "# Bivariate Analysis\n"
   ]
  },
  {
   "cell_type": "code",
   "execution_count": null,
   "id": "e0c5074a",
   "metadata": {},
   "outputs": [],
   "source": [
    "# Interest Rate and loan Amount\n",
    "\n",
    "plt.figure(figsize=(9,4))\n",
    "sns.barplot(x='int_rate', y='loan_amnt_category', hue ='loan_status',data =dt,palette=\"colorblind\",ci=None,saturation=1)\n",
    "plt.show()"
   ]
  },
  {
   "cell_type": "code",
   "execution_count": null,
   "id": "4a21f559",
   "metadata": {},
   "outputs": [],
   "source": [
    "# Interest Rate and  Annual Income\n",
    "\n",
    "plt.figure(figsize=(9,4))\n",
    "sns.barplot(x='int_rate', y='annual_inc_category', hue ='loan_status',data =dt,palette=\"colorblind\",ci=None,saturation=1)\n",
    "plt.show()"
   ]
  },
  {
   "cell_type": "code",
   "execution_count": null,
   "id": "1c9d1520",
   "metadata": {},
   "outputs": [],
   "source": [
    "# Interest Rate and Debt To Incoome\n",
    "\n",
    "plt.figure(figsize=(9,4))\n",
    "sns.barplot(x='int_rate', y='dti_category', hue ='loan_status',data =dt,palette=\"colorblind\",ci=None,saturation=1)\n",
    "plt.show()"
   ]
  },
  {
   "cell_type": "code",
   "execution_count": null,
   "id": "c5912f65",
   "metadata": {},
   "outputs": [],
   "source": [
    "# Interest Rate and Instalment\n",
    "\n",
    "plt.figure(figsize=(9,4))\n",
    "sns.barplot(x='int_rate', y='installment_category', hue ='loan_status',data =dt,palette=\"colorblind\",ci=None,saturation=1)\n",
    "plt.show()"
   ]
  },
  {
   "cell_type": "code",
   "execution_count": null,
   "id": "d93a13c8",
   "metadata": {},
   "outputs": [],
   "source": [
    "# Interest Rate and Grade\n",
    "\n",
    "plt.figure(figsize=(9,4))\n",
    "sns.barplot(x='int_rate', y='grade', order=['A','B','C','D','E','F','G'],hue ='loan_status',data =dt,palette=\"colorblind\",ci=None,saturation=1)\n",
    "plt.show()"
   ]
  },
  {
   "cell_type": "code",
   "execution_count": null,
   "id": "18be6cd6",
   "metadata": {},
   "outputs": [],
   "source": [
    "# Interest Rate and Employee Length\n",
    "\n",
    "plt.figure(figsize=(9,4))\n",
    "sns.barplot(x='int_rate', y='emp_length',order=['<1','1','2','3','4','5','6','7','8','9','10+'], hue ='loan_status',data =dt,palette=\"colorblind\",ci=None,saturation=1)\n",
    "plt.show()"
   ]
  },
  {
   "cell_type": "code",
   "execution_count": null,
   "id": "59f030d5",
   "metadata": {},
   "outputs": [],
   "source": [
    "# Interest Rate and Verfication Status\n",
    "\n",
    "plt.figure(figsize=(9,4))\n",
    "sns.barplot(x='int_rate', y='verification_status', hue ='loan_status',data =dt,palette=\"colorblind\",ci=None,saturation=1)\n",
    "plt.show()"
   ]
  },
  {
   "cell_type": "code",
   "execution_count": null,
   "id": "3931de42",
   "metadata": {},
   "outputs": [],
   "source": [
    "# Interest Rate and Home Ownership\n",
    "\n",
    "plt.figure(figsize=(9,4))\n",
    "sns.barplot(x='int_rate', y='home_ownership', hue ='loan_status',data =dt,palette=\"colorblind\",ci=None,saturation=1)\n",
    "plt.show()"
   ]
  },
  {
   "cell_type": "code",
   "execution_count": null,
   "id": "a9c5ba3e",
   "metadata": {
    "scrolled": true
   },
   "outputs": [],
   "source": [
    "# Interest Rate and Loan Purpose\n",
    "\n",
    "plt.figure(figsize=(9,7))\n",
    "sns.barplot(x='int_rate', y='purpose', hue ='loan_status',data =dt,palette=\"colorblind\",ci=None,saturation=1)\n",
    "plt.show()"
   ]
  },
  {
   "cell_type": "markdown",
   "id": "45c1350c",
   "metadata": {},
   "source": [
    "## Listed below are the Observation from Univariate Analysis"
   ]
  },
  {
   "cell_type": "code",
   "execution_count": null,
   "id": "d9840455",
   "metadata": {},
   "outputs": [],
   "source": [
    "# 1.\tApplicants with grade B are high in charged off status\n",
    "# 2.\tMore charged off occurred in the year 2011 \n",
    "# 3.\tMore charged off occurred in the month of December\n",
    "# 4.\tTerm with 36 months is charged off in high numbers\n",
    "# 5.\tEmployment length more than 10 years charged off in high numbers, this could be a fact that all the applicants above 10 years are in the category 10+ years \n",
    "# 6.\tApplicant who is residing in rented home are charged off in high numbers\n",
    "# 7.\tApplicants whose source are not verified are charged off in high numbers\n",
    "# 8.\tApplicants used loan for debt consolidation are charged off in high numbers\n",
    "# 9.\tApplicants with loan between 500 to 12000 are charged off in high numbers\n",
    "# 10.\tApplicants with interest rate between 13 and 17 are charged off in high numbers\n",
    "# 11.\tApplicants with instalments between 185 and 370 are charged off in high numbers\n",
    "# 12.\tApplicants with debt-to-income ratio between 12 and 18 are charged off in high numbers\n",
    "# 13.\tApplicants with annual income between 28k and 56K are charged off in high numbers\n"
   ]
  },
  {
   "cell_type": "markdown",
   "id": "58b2cb2e",
   "metadata": {},
   "source": [
    "## Listed below are the Observation from Bivariate Analysis"
   ]
  },
  {
   "cell_type": "code",
   "execution_count": null,
   "id": "1b44abed",
   "metadata": {},
   "outputs": [],
   "source": [
    "# 1.\tIf Loan Amount is higher than 10K for the purpose small business, debt consolidation, credit card \n",
    "# 2.\tIf Loan amount more than 12K, and term is 60 months\n",
    "# 3.\tLoan amount higher than15K and interest rate is higher than 20%\n",
    "# 4.\tLoan amount higher than 25K and instalment is higher than 925\n",
    "# 5.\tLoan amount higher than 15K and Grade of the applicants are F and G\n",
    "# 6.\tApplicants whose Home is in Mortgage\n",
    "# 7.\tLoan amount is higher and even if the verification is done\n",
    "# 8.\tApplicant’s Annual income is higher than 60k with purpose of loan is for high home improvement, small business\n",
    "# 9.\tApplicant’s Annual income is higher than 60k and falls in lower Grade as F and G \n",
    "# 10.\tInterest Rate is higher than 14% and purpose of loan is small business\n",
    "\n"
   ]
  },
  {
   "cell_type": "markdown",
   "id": "ed66e9c7",
   "metadata": {},
   "source": [
    "### End of Analysis"
   ]
  },
  {
   "cell_type": "markdown",
   "id": "dbd6a958",
   "metadata": {},
   "source": [
    "### Contributors: \n",
    "\n",
    "   ### 1.Antony John Sundar Aruldos\n",
    "   ### 2.Subhrabindu Khuntia"
   ]
  },
  {
   "cell_type": "code",
   "execution_count": null,
   "id": "37eadc17",
   "metadata": {},
   "outputs": [],
   "source": []
  }
 ],
 "metadata": {
  "kernelspec": {
   "display_name": "Python 3 (ipykernel)",
   "language": "python",
   "name": "python3"
  },
  "language_info": {
   "codemirror_mode": {
    "name": "ipython",
    "version": 3
   },
   "file_extension": ".py",
   "mimetype": "text/x-python",
   "name": "python",
   "nbconvert_exporter": "python",
   "pygments_lexer": "ipython3",
   "version": "3.11.4"
  }
 },
 "nbformat": 4,
 "nbformat_minor": 5
}
